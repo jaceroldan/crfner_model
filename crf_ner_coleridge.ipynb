{
 "cells": [
  {
   "cell_type": "code",
   "execution_count": 1,
   "id": "937d57b6-b9f6-401f-ab2e-285c60e5f2ed",
   "metadata": {},
   "outputs": [
    {
     "data": {
      "text/plain": [
       "'Risk factors and global cognitive status related to brain arteriolosclerosis in elderly individuals'"
      ]
     },
     "execution_count": 1,
     "metadata": {},
     "output_type": "execute_result"
    }
   ],
   "source": [
    "import json\n",
    "import pandas as pd\n",
    "\n",
    "train = pd.read_csv('./datasets/train.csv')\n",
    "paper_train_folder = './datasets/train'\n",
    "# print(train.shape)\n",
    "# print(train[train['pub_title'] == 'Risk factors and global cognitive status related to brain arteriolosclerosis in elderly individuals'])\n",
    "\n",
    "train = train.groupby('Id').agg({\n",
    "    'pub_title': 'first',\n",
    "    'dataset_title': '|'.join,\n",
    "    'dataset_label': '|'.join,\n",
    "    'cleaned_label': '|'.join\n",
    "}).reset_index()\n",
    "\n",
    "# print(train.head())\n",
    "# print(train.shape)\n",
    "\n",
    "# train['dataset_title'].str.find('|')\n",
    "train.iloc[3]['pub_title']"
   ]
  },
  {
   "cell_type": "code",
   "execution_count": 2,
   "id": "6f1bb40d-df18-435e-ac96-e6c98773c59d",
   "metadata": {},
   "outputs": [],
   "source": [
    "papers = {}\n",
    "for paper_id in train['Id'].unique():\n",
    "    with open(f'{paper_train_folder}/{paper_id}.json', 'r') as f:\n",
    "        paper = json.load(f)\n",
    "        papers[paper_id] = paper"
   ]
  },
  {
   "cell_type": "code",
   "execution_count": 3,
   "id": "b4792c7e-a3af-4b08-90ba-54bcf144cedc",
   "metadata": {},
   "outputs": [
    {
     "data": {
      "text/plain": [
       "[{'section_title': 'Abstract',\n",
       "  'text': \"The aim of this study was to identify if acquiring ICT skills through DOT Lebanon's ICT training program (a local NGO) improved income generation opportunities after 3-months of completing the training. The target population was the NGO's vulnerable young beneficiaries. This study was completed in an effort to find creative and digital solutions to the high rate of youth unemployment in Lebanon (37%), one of the highest rates in the world. Results showed that 48% of beneficiaries who were unemployed at baseline, were exposed to at least one income generation opportunity 3 months after completing the DOT Lebanon training. Also, 49% of beneficiaries who were already employed at baseline were exposed to at least one income generation opportunity. Gender, English proficiency and governorate were variables that were found to be statistically significant. Males were more likely than females to be exposed to income generation opportunities. Those who knew little English had better chances than those who had no English proficiency. Beneficiaries living in the capital Beirut were more likely than others to be exposed to income generation opportunities.\"},\n",
       " {'section_title': 'Introduction',\n",
       "  'text': 'The spur of ICT (Information and Communication Technologies) innovations in the twenty-first century has massively disrupted economies and business models (Christensen, 2013; Tohmatsu, 2012) . Millions of jobs face a high probability of being replaced because computers and the internet are reshaping the labor market (Oliver, 2015) . In the framework of globalization, digital skills are now considered preliminary for securing professional employment across the globe (Pirzada & Khan, 2013) . Consequently, many employers across a wide range of sectors are increasingly viewing ICT skills as an important component of employability (Belt & Richardson, 2005; Johnson & Burden, 2003) . The omnipresence of computing has made digital literacy increasingly critical to success in any occupation (Murray & Pérez, 2014) . In fact, organizations are now identifying digital skills or computer literacy as one of their core values for employability (such as the US Department of Education, the US Department of commerce, the OECD Program for the International Assessment of Adult Competencies and the European Commission).\\nIn particular, in developing countries, digital skills are estimated to reduce poverty levels and increase employment rates (Bennett, Maton, & Kervin, 2008) . ICT competence can bring significant benefits to marginalized groups, allowing these groups to participate more fully in society as it improves employment opportunities, overcomes isolation, builds confidence and leads to further learning (Bunker, 2010) . It\"s not a surprise that Digital Literacy has been deemed an essential life skill (Europea, 2008) . Individuals\" digital engagement has direct implications on their academic performance, labor market success and entrepreneurship uptakes. Those who function better in the digital realm and participate more fully in digitally mediated life enjoy advantages over their digitally disadvantaged counterparts (Robinson et al., 2015) . ICT have become central to every economy and to people\"s quality of life in every society (Olatoye, 2011) .\\nNevertheless, a new form of inequality is emerging, adding to all the existing forms of discrimination (Hilbert, 2011) . Concerns are being raised that the digital divide is leaving behind those most in need of assistance (Greig, 2004) . It is feared that as the role of ICT continues to expand, the exclusion experienced by disadvantaged groups may be accentuated and reinforced, rather than mitigated (Corrigan & Joyce, 2000) . Discussions about digital divides typically refer to socio-economic disparities in accessibility and usage of ICT. The use of such technologies result in several beneficial outcomes while the non-use of such technologies excludes people from full participation in contemporary society (Helsper, Deursen, & Eynon, 2015) . Many studies have established that basic access to digital resources and the skills to effectively use them still escape many economically disadvantaged or traditionally underrepresented portions of the population (Witte & Mannon, 2010) . Thus, digital inequalities can reinforce and exacerbate existing social inequalities (DiMaggio & Garip, 2012) . Further interventions are needed to ensure that the unqualified, the low skilled, the long-term unemployed and those on low incomes are enabled to reap the benefits of new services and opportunities for job seeking through ICT (Lindsay, 2005) .'},\n",
       " {'section_title': 'English and ICT',\n",
       "  'text': 'Studies continue to show that primary language is among the variables associated with disparities in access to and use of technology (Fox & Livingston, 2007) and that the lack of or low proficiency in English can hinder digital literacy and digital use. Jarvis and Achilleos (2013) reported that English language acquirers use the Internet a great deal, and much of this use is in English. This is true for both social and informational use of English. 73% of Arabic Speakers who were surveyed agreed with the statement \"I use English to communicate online with friends from other countries\". Their research confirmed that there is an impressive amount of English use on the internet for a wide range of services even for those with lower English proficiency. Furthermore, the British Council reports that over 2/3 of the world\"s scientists read in English, 3/4 of the world\"s mail is written in English, 80% of the world\"s electronically stored information is in English and, of the estimated 200 million users of the Internet, some 36% communicate in English (Gunderson, Odo, & D\"Silva, 2011) . English can be seen as the leading language in the digital realm (Kornai, 2013) . According to Ghasemi and Hashemi (2011) ICT helps English language learners in a number of areas including communication, cognitive skills, creativity and independence. Consequently, it could be determined that low proficiency in English could play a negative role in acquiring digital skills, understanding information via internet and accessing job opportunities. UNDP\"s latest labor needs assessment for Lebanon (UNDP, 2016) found that within the ICT sector, weak language and communication skills (in English) serve as a barrier to learning, research and development. One of its recommendations was to invest in language (English) training schemes especially that over 43% of professionals working in the ICT sector were found to have significant weaknesses in \"communicating in spoken and written English well enough to be understood by others\" (UNDP, 2016).'},\n",
       " {'section_title': 'Lebanon',\n",
       "  'text': 'Lebanon is a small country situated in the Middle East on the Eastern shores of the Mediterranean Sea. Its official language is Arabic. In the 1970s, various tensions inherent to the Lebanese system and multiple regional developments contributed to the breakdown of governmental authority and the outbreak of civil war in 1975 (Khalidi, 1979; Salibi, 1976) which ended with the Taif agreement in 1990. Even after the signature of this peace agreement which ended a 15-year civil war, Lebanon remains a troubled country (Ghosn & Khoury, 2011) due to internal and regional instabilities. In 2011, the eruption of the Syrian crisis had a devastating impact on Lebanon. The sudden influx of refugees highlighted existing economic and social troubles and made Lebanon the country with the most refugees per capita in the world (UNHCR, 2016) . Following decades of conflict and ongoing political turmoil, the additional pressure on Lebanon\"s weak infrastructure, fragile political and religious composition, and unfavorable economic and employment conditions have shown to be destabilizing. At a national poverty rate of 27.4 (World Bank, 2019) and 37% youth unemployment rate (Brihi, Takieddine, & Zmeter, 2019) Lebanon is already among the countries with the highest youth unemployment in the world (World Bank, 2019). The sharp upsurge in the number of individuals seeking low wage jobs has not only increased economic competition but also deepened the tension between the Syrian population and host communities. Unskilled youth struggle to find employment in the crowded labor market (Lebanon Crisis Response Plan (LCRP), 2019).'},\n",
       " {'section_title': 'Gender Inequality in Lebanon',\n",
       "  'text': 'Lebanese women are in a constant battle with a male-dominated culture and many are not able to escape a poor quality of life due to their vulnerable economic position. With an overall 25% unemployment rate nationwide (Brihi et al., 2019) women specifically are not being successful in finding suitable, relevant, equitable, and flexible jobs, and many have not been trained for a career and equipped with the basic ICT and 21st century skills.\\nWithin 142 surveyed nations, Lebanon ranks 135th on the Gender Gap Index, which makes it the eighth worst country for gender equality. According to UNICEF (2011) Lebanese women aged between 15 and 24 record a low economic participation with a labor force participation rate equal to 22%, while the corresponding percentage for young men is almost double with a rate of 42%. The Central Administration of Statistics in Lebanon reported that 77.2% of Lebanese women of working age are not economically active (unemployed and not looking for a job) compared to 27.2% for men. Globally, the labor force participation rate of women is 52%, indicating an urgent need to intervene and increase women\"s economic participation in income generating activities within the Lebanese Society.'},\n",
       " {'section_title': \"Lebanon's ICT Sector\",\n",
       "  'text': 'While a number of Arab governments have adopted digital literacy programs such as Egypt, Jordan, the UAE, Kuwait, Saudi Arabia and Oman (Bunker, 2010) Lebanon has yet to overcome public negligence and corruption in the ICT sector, hindering its growth far more than expected (Chami & Mikhael, 2016) . The low quality and poor coverage of infrastructure coupled with high costs have created limitations for the exponential advancement of Lebanon\"s ICT market (Soueid, Ghanem, & Nehme, 2015) . Furthermore, the low quality of vocational ICT trainings discourages firms from hiring young fresh graduates (UNDP, 2016) . According to a study completed by UNDP (2016) 96% of semi-skilled workers in the Agro-food industry suffer from basic ICT skills weaknesses, 89.6% in the construction industry and 26.2% of professional staff in the ICT industry show weaknesses in selecting and using tools & technology. These high percentages confirm the need for interventions to improve ICT skills across a variety of sectors in Lebanon, especially that it has been established by now that initiatives aiming at increasing digital literacy in developing countries have the capacity to produce economic, health, and quality of life benefits (Venkatesh & Sykes, 2013) .'},\n",
       " {'section_title': 'DOT Lebanon ICT Training Program',\n",
       "  'text': 'DOT Lebanon is a registered local Lebanese NGO reporting to a local Lebanese board and also reporting to its affiliate organization DOT Canada based in Ontario. DOT Lebanon supports vulnerable youth and women to lead change in the communities they serve, transforming them into daring social innovators who have the tools, knowledge, and networks to create opportunities. Its model is based on a movement: encouraging a youth-led, grassroots approach to social innovation and community transformation, and ushering in a new era of sustainability, scale, and transformative change. DOT Lebanon\"s vision intends to support youth and women to become social innovators and leaders, and to create and apply digital solutions that have a positive impact in their communities. The core expertise of DOT Lebanon has been working with youth and women nationwide for more than 10 years, providing them with digital and entrepreneurial skills to help them improve the quality of their lives.\\nThe subject of this study was one of DOT Lebanon\"s programs: Digital Media Literacy Program (DML), a 2-level digital youth training program delivered in 14 different centers across Lebanon. The program was developed with the aim of providing under-privileged youth with digital skills to increase their access to income generating opportunities. The program is offered to all applicants regardless of their nationality or status (nationals, refugees, migrants, no legal status, etc.).\\nThe skills targeted by DOT Lebanon\"s ICT training are based around those skills that an individual would need to use ICT effectively and complete the tasks they wish to undertake. These would include:\\n• Basic skills for personal and business communications (e-mail and internet usage).\\n• Skills related to using the computer (logging on, locating files, opening applications and uploading and saving files). • Skills related to using basic word processing, spreadsheet and other common applications.\\n• Advanced skills within applications (which may allow the user to undertake more complex tasks).\\n• Knowledge around how computers and the internet operate, which is critical to allow the individual to be able to use the technology in a confident and secure manner. The aim of this study was to identify if acquiring ICT skills through DOT Lebanon\"s ICT training program improved income generation opportunities after 3-months, for DOT Lebanon\"s beneficiaries enrolled in the training from February 2018 till September 2018.'},\n",
       " {'section_title': 'Methodology', 'text': ''},\n",
       " {'section_title': 'Study Design',\n",
       "  'text': 'This is a prospective cohort study describing being exposed to at least 1 income generation opportunity after 3-months from completion of DOT Lebanon\"s ICT training. Income generation opportunity is defined as:\\n• Being called for an interview (online, in person or through a recruiter), or • Completing an internship, or • Creating/using a technology platform to generate income (website, mobile app, blog, software, Social Media).\\nParticipants chosen for this study were above 18 years old (labor law in Lebanon sets the eligibility age for work at 18 years) who have completed DOT Lebanon ICT training.'},\n",
       " {'section_title': 'Study Procedure',\n",
       "  'text': 'Upon registering in the training, participants filled the DOT Lebanon registration form that included basic demographic information (gender, age category, nationality, address and educational level). Participants were informed that a follow-up text message (sms) and email including a link for the questionnaire, with reminders sent weekly for 4 weeks, will be sent at 3-months from completion of the course. Oral consent was obtained from participants. All participants who completed their course by September 2018 were contacted.'},\n",
       " {'section_title': 'Data Analysis and Statistics',\n",
       "  'text': 'Data was analyzed using Statistical Package for the Social Sciences (SPSS) © version 20. Demographic and cohort characteristics were reported and then analyzed at bivariate level with the main outcome. In addition, logistic regression analysis for covariates that exhibited a p-value<0.2 with the main outcome were tested to explore the variables that impacted the outcome in an overall model. Levels of significance were set at p <0.05.'},\n",
       " {'section_title': 'Limitations',\n",
       "  'text': 'A limitation that arises with a longitudinal study is the loss of participants over time. The total sample of respondents was satisfactory but not optimal even though regular reminders were sent. The logistical and financial needs to track individuals over time was costly and time consuming. Thus the generalizability of this study could be hindered. However, the short period of recall of only 3-months would have reduced the effect of recall bias.'},\n",
       " {'section_title': 'Results',\n",
       "  'text': 'The response rate for this follow-up study was 43.2%. At the 3-month mark, questionnaires were sent out to 637 beneficiaries who had successfully completed the DOT Lebanon training. 275 complete responses were received. The researchers consider the above response rate adequate, especially that studies conducted in Lebanon using similar methods of surveys yield a wide range of response rates varying from 17% to 56.3 % (Aboujaoude, Nona, Koran, & Large, 2006; Awada, Diab, & Faour, 2018; UNDP, 2018) .\\nMost of the participants were females (56%) with almost half in the younger age group (18 to 20). Around 70% were from Lebanese nationality, reflecting the distribution of DOT Lebanon training participants. As for area of living of the participants, it was distributed across all governorates. Half of the respondents went to university, however, more than two-thirds were not employed. Out of total respondents, 66% had attended trainings other than DOT Lebanon training.\\nAs for knowledge of the English language, more than 90% said they had a little or good knowledge of reading English, more than 80% stated the same for reading and writing English, and most (around 80%) had access to a laptop.\\nFor the main outcome, being exposed to at least one income generation opportunity, the answers were divided almost in half Table 1 .\\nAt the bivariate level Table 2 , gender, age, governorate, undergoing other trainings, level of speaking and writing English showed a statistical significance difference between those who were exposed to at least one income generation opportunity with p-values of .008, .009, <.001. <.001, .010 and .046 respectively. Males and older age group proved to be more exposed than the other groups. Akkar, Beirut, Bekaa and the North of Lebanon were the regions that showed that the DOT Lebanon trainees were more prone to find income generation opportunities. Half of participants who were unemployed at registration were exposed to at least one income generation at baseline; however, unemployment status was not significant with the outcome (pvalue = .489). Moreover, when pooling all variables with p-values <0.2 in a logistic regression model Table 3 only gender, governorate and reading in English were the variables that showed statistical impact on the main outcome. Males were 0.4 times more likely to get exposed to an income generation opportunity, while participants who knew how to read English a little were 22.1 times more likely than those who did not know at all. Beneficiaries living in the capital Beirut were more likely to be exposed to income generation opportunities than those living in other governorates. '},\n",
       " {'section_title': 'Characteristics of Participants Survey at 3-months N (%)',\n",
       "  'text': 'Gender Female 153 (56) '},\n",
       " {'section_title': 'Discussion', 'text': ''},\n",
       " {'section_title': 'Income Generation Opportunity Status',\n",
       "  'text': 'The results showed that 195 (72%) beneficiaries were not employed at baseline. 93 of them (48%) were exposed to at least one income generation opportunity 3 months after completing the DOT Lebanon training. Additionally, out of the 80 (28%) beneficiaries who were employed at baseline, 39 of them (49%) were exposed to at least one income generation opportunity 3 months after completing the DOT Lebanon training. When evaluating the data qualitatively, the results indicate a positive impact on beneficiaries who attended the DOT Lebanon ICT training. Even though the results were not statistically significant due to the current economic crisis the country is subject to, from a humanitarian perspective, helping almost 48% of the beneficiaries and subsequently their families secure at least one income generation opportunity in a country with one of the highest youth unemployment rates is a victory. The 2018 United Nation\"s annual report on Lebanon described the country\"s medium-term economic prospects as bleak, which is likely to adversely impact vulnerability and poverty rates (UN Lebanon Annual Report, 2018). Providing ICT basic training, which has proven to increase the chances of being exposed to income generation opportunities is one way of alleviating the heavy weight of unemployment. Furthermore, when examining the quality of public vocational training offered to vulnerable youth in Lebanon, it seems that they receive very limited and outdated competencies and practical experience (Kawar & Tzannatos, 2013) . Fresh graduates are facing digital skills gap in the workplace (Wehbe, 2016) . The increase in the number of youth who were exposed to at least one income generation opportunity 3 months after completing the DOT Lebanon training could be an indication that the newly acquired ICT skills are making vulnerable youth more employable. By closing information gaps and offering an interactive and practical ICT training, DOT Lebanon\"s training seems to enhance youth\"s ability to participate in the economic community. In fact, statistics from previous DOT Lebanon projects reports indicate that 37% of beneficiaries who had previously completed their ICT training increased their household income and 65% increased involvement with their communities. '},\n",
       " {'section_title': 'Gender Inequality',\n",
       "  'text': 'Gender was found to be a statistically significant variable and its significance was highlighted in the overall model. The results indicate a statistical difference between males and females in their exposure to income generation opportunities after completing the DOT Lebanon ICT training. Males had better chances of being exposed to at least one income generation opportunity than females. The results are in line with Lebanon\"s male-dominated culture where women, especially those from vulnerable backgrounds, still struggle to find a suitable job. Nevertheless, efforts for training vulnerable women on ICT skills should be intensified especially that traditional axes of inequality such as gender have direct impact on widening the gender digital divide.'},\n",
       " {'section_title': 'English Reading Proficiency',\n",
       "  'text': 'The results indicate a significant difference in the level of reading the English language. It appears that after completing the DOT Lebanon ICT training, beneficiaries who knew a little English were 22 times more likely to be exposed to at least one income generation opportunity in comparison to those who didn\"t read English at all, even when all other variables are pooled in the model. In fact, studies continue to show that primary language is among the variables associated with disparities in access to and use of technology (Fox & Livingston, 2007) and that the lack of or low proficiency in English can hinder digital literacy and digital use. These results have important implications related to improving the content of the training to intentionally include English terminology or even better, offer basic English language trainings as another training component of the DOT Lebanon ICT program.'},\n",
       " {'section_title': 'Governorate Disparities',\n",
       "  'text': 'Beneficiaries living in the capital Beirut were more likely to be exposed to at least one income generation opportunity in comparison to those living in other governorates: Akkar, North, Baalback, Bekaa, Nabatieh, South and Mount Lebanon, even after adding all relevant variables in the regression model. Even though the capital Beirut is not the only big and busy city in Lebanon, it is still considered the biggest hub for employment and job opportunities for the country. These results were expected as the country\\'s struggle toward \"decentralization\" hinders an even development and prevents a balanced job market between the different regions of Lebanon (Democracy Reporting International (DRI), 2017; Harb & Atallah, 2015) . Consequently, ICT training should continue in all areas especially outside Beirut, creating more competitive beneficiaries with ICT skills. The aim of DOT Lebanon ICT training program is not only to instill ICT skills among its beneficiaries, but to also address the shortage of job opportunities outside the capital by creating young workers who can work remotely at a much cheaper cost. All that is needed is an internet connection and access to a laptop which, according to the results in this study, is not a hindering factor.'},\n",
       " {'section_title': 'Conclusion',\n",
       "  'text': 'Lebanon is already among the countries with the highest youth unemployment rate in the world (Brihi et al., 2019 ) (World Bank, 2019 . The sharp upsurge in the number of individuals seeking low wage jobs (due to the Syrian refugee crisis) has increased economic competition and unskilled youth are struggling to find employment in the crowded labor market. But since nowadays digital technologies underpin effective participation in key areas of life and work (International Telecommunication Union (ITU), 2017) and are used in all types of jobs, even the ones not traditionally related to digitization e.g. farming and construction (European Commision, 2017) one way of fighting the risk of youth living in Lebanon of becoming a lost generation, is training them on ICT skills. Current dialogues on development persistently identify ICT as a requirement for economic growth and the improvement of social conditions. Technological innovation enhances human capabilities and impacts economic growth through productivity gains (Avgerou, 2003) .\\nThis research study comes to validate and quantify a number of assumptions in the Lebanese context. First, training the vulnerable youth on ICT skills can warrant an increase in exposure to income generating opportunities. Second, targeting women with ICT training is of utmost importance to reduce the gender digital divide which has already gained a foothold in the Lebanese society. Indeed, men are more likely than women to be exposed to income generating opportunities even though they were subject to the same ICT training. Third, combined with ICT skills, English proficiency is an advantage that can increase one\"s chances of acquiring income generation opportunities. Finally, there is a brewing need to create remote workers who are ICT literate and who can fulfill jobs online and from a distance, without the financial burden required when traveling to the capital Beirut.'}]"
      ]
     },
     "execution_count": 3,
     "metadata": {},
     "output_type": "execute_result"
    }
   ],
   "source": [
    "papers[train['Id'][0]]"
   ]
  },
  {
   "cell_type": "code",
   "execution_count": 4,
   "id": "2203a1c5-7a3b-4981-8f4c-5d9f270c92e7",
   "metadata": {},
   "outputs": [],
   "source": [
    "def clean_training_text(txt):\n",
    "    \"\"\"\n",
    "    similar to the default clean_text function but without lowercasing.\n",
    "    \"\"\"\n",
    "    return re.sub('[^A-Za-z0-9]+', ' ', str(txt)).strip()\n",
    "\n",
    "def shorten_sentences(sentences):\n",
    "    short_sentences = []\n",
    "    for sentence in sentences:\n",
    "        words = sentence.split()\n",
    "        if len(words) > MAX_LENGTH:\n",
    "            for p in range(0, len(words), MAX_LENGTH - OVERLAP):\n",
    "                short_sentences.append(' '.join(words[p:p+MAX_LENGTH]))\n",
    "        else:\n",
    "            short_sentences.append(sentence)\n",
    "    return short_sentences\n",
    "\n",
    "def find_sublist(big_list, small_list):\n",
    "    all_positions = []\n",
    "    for i in range(len(big_list) - len(small_list) + 1):\n",
    "        if small_list == big_list[i:i+len(small_list)]:\n",
    "            all_positions.append(i)\n",
    "    \n",
    "    return all_positions\n",
    "\n",
    "def tag_sentence(sentence, labels): # requirement: both sentence and labels are already cleaned\n",
    "    sentence_words = sentence.split()\n",
    "    \n",
    "    if labels is not None and any(re.findall(f'\\\\b{label}\\\\b', sentence)\n",
    "                                  for label in labels): # positive sample\n",
    "        nes = ['O'] * len(sentence_words)\n",
    "        for label in labels:\n",
    "            label_words = label.split()\n",
    "\n",
    "            all_pos = find_sublist(sentence_words, label_words)\n",
    "            for pos in all_pos:\n",
    "                nes[pos] = 'B'\n",
    "                for i in range(pos+1, pos+len(label_words)):\n",
    "                    nes[i] = 'I'\n",
    "\n",
    "        return True, list(zip(sentence_words, nes))\n",
    "        \n",
    "    else: # negative sample\n",
    "        nes = ['O'] * len(sentence_words)\n",
    "        return False, list(zip(sentence_words, nes))\n"
   ]
  },
  {
   "cell_type": "code",
   "execution_count": 5,
   "id": "0fcc2471-bf5b-46e4-bf12-9487f44de2e0",
   "metadata": {},
   "outputs": [],
   "source": [
    "# Hyperparameters\n",
    "MAX_LENGTH = 64 # max no. words for each sentence.\n",
    "OVERLAP = 20 # if a sentence exceeds MAX_LENGTH, we split it to multiple sentences with overlapping\n",
    "\n",
    "MAX_SAMPLE = None # set a small number for experimentation, set None for production."
   ]
  },
  {
   "cell_type": "code",
   "execution_count": 6,
   "id": "8c1e5350-401c-489e-8620-a3196cfccf5c",
   "metadata": {},
   "outputs": [
    {
     "name": "stderr",
     "output_type": "stream",
     "text": [
      "Training data size: 47202 positives + 514263 negatives: 100%|█| 14316/14316 [01:12<00"
     ]
    }
   ],
   "source": [
    "import re\n",
    "from tqdm import tqdm\n",
    "import random\n",
    "\n",
    "cnt_pos, cnt_neg = 0, 0 # number of sentences that contain/not contain labels\n",
    "ner_data = []\n",
    "\n",
    "pbar = tqdm(total=len(train))\n",
    "for i, id, dataset_label in train[['Id', 'dataset_label']].itertuples():\n",
    "    # paper\n",
    "    paper = papers[id]\n",
    "    \n",
    "    # labels\n",
    "    labels = dataset_label.split('|')\n",
    "    labels = [clean_training_text(label) for label in labels]\n",
    "    \n",
    "    # sentences\n",
    "    sentences = set([clean_training_text(sentence) for section in paper \n",
    "                 for sentence in section['text'].split('.') \n",
    "                ])\n",
    "    sentences = shorten_sentences(sentences) # make sentences short\n",
    "    sentences = [sentence for sentence in sentences if len(sentence) > 10] # only accept sentences with length > 10 chars\n",
    "    \n",
    "    # positive sample\n",
    "    for sentence in sentences:\n",
    "        is_positive, tags = tag_sentence(sentence, labels)\n",
    "        if is_positive:\n",
    "            cnt_pos += 1\n",
    "            ner_data.append(tags)\n",
    "        elif any(word in sentence.lower() for word in ['data', 'study']): \n",
    "            ner_data.append(tags)\n",
    "            cnt_neg += 1\n",
    "    \n",
    "    # process bar\n",
    "    pbar.update(1)\n",
    "    pbar.set_description(f\"Training data size: {cnt_pos} positives + {cnt_neg} negatives\")\n",
    "\n",
    "# shuffling\n",
    "random.shuffle(ner_data)\n"
   ]
  },
  {
   "cell_type": "code",
   "execution_count": 7,
   "id": "ea573c99-5c70-4f6c-94b9-02e8d51e6809",
   "metadata": {},
   "outputs": [],
   "source": [
    "import nltk\n",
    "from tqdm import tqdm\n",
    "\n",
    "# You may need to download NLTK resources for POS tagging\n",
    "# nltk.download('averaged_perceptron_tagger')\n",
    "\n",
    "# The word2features function from earlier\n",
    "def word2features(sent, i):\n",
    "    word = sent[i]\n",
    "    \n",
    "    features = {\n",
    "        'word': word,\n",
    "        'is_upper': word.isupper(),\n",
    "        'is_title': word.istitle(),\n",
    "        'is_digit': word.isdigit(),\n",
    "        'word_length': len(word),\n",
    "        'prefix_1': word[:1],  \n",
    "        'prefix_2': word[:2],  \n",
    "        'suffix_1': word[-1:],  \n",
    "        'suffix_2': word[-2:],  \n",
    "    }\n",
    "    \n",
    "    pos_tag = nltk.pos_tag([word])[0][1]\n",
    "    features['pos_tag'] = pos_tag\n",
    "    \n",
    "    if i > 0:\n",
    "        prev_word = sent[i - 1]\n",
    "        features.update({\n",
    "            'prev_word': prev_word,\n",
    "            'prev_is_upper': prev_word.isupper(),\n",
    "            'prev_is_title': prev_word.istitle(),\n",
    "            'prev_is_digit': prev_word.isdigit(),\n",
    "        })\n",
    "    else:\n",
    "        features['BOS'] = True  \n",
    "    \n",
    "    if i < len(sent) - 1:\n",
    "        next_word = sent[i + 1]\n",
    "        features.update({\n",
    "            'next_word': next_word,\n",
    "            'next_is_upper': next_word.isupper(),\n",
    "            'next_is_title': next_word.istitle(),\n",
    "            'next_is_digit': next_word.isdigit(),\n",
    "        })\n",
    "    else:\n",
    "        features['EOS'] = True  \n",
    "\n",
    "    return features\n",
    "\n",
    "def sent2features(sent):\n",
    "    return [word2features(sent, i) for i in range(len(sent))]"
   ]
  },
  {
   "cell_type": "code",
   "execution_count": 8,
   "id": "387fd644-96b1-4b2a-a944-dc39d7605d2d",
   "metadata": {},
   "outputs": [
    {
     "name": "stderr",
     "output_type": "stream",
     "text": [
      "Extracting features: 100%|█████████████████| 561465/561465 [06:29<00:00, 1443.13it/s]"
     ]
    },
    {
     "name": "stdout",
     "output_type": "stream",
     "text": [
      "{'word': 'A', 'is_upper': True, 'is_title': True, 'is_digit': False, 'word_length': 1, 'prefix_1': 'A', 'prefix_2': 'A', 'suffix_1': 'A', 'suffix_2': 'A', 'pos_tag': 'DT', 'BOS': True, 'next_word': 'medical', 'next_is_upper': False, 'next_is_title': False, 'next_is_digit': False}\n",
      "{'word': 'medical', 'is_upper': False, 'is_title': False, 'is_digit': False, 'word_length': 7, 'prefix_1': 'm', 'prefix_2': 'me', 'suffix_1': 'l', 'suffix_2': 'al', 'pos_tag': 'JJ', 'prev_word': 'A', 'prev_is_upper': True, 'prev_is_title': True, 'prev_is_digit': False, 'next_word': 'evaluation', 'next_is_upper': False, 'next_is_title': False, 'next_is_digit': False}\n",
      "{'word': 'evaluation', 'is_upper': False, 'is_title': False, 'is_digit': False, 'word_length': 10, 'prefix_1': 'e', 'prefix_2': 'ev', 'suffix_1': 'n', 'suffix_2': 'on', 'pos_tag': 'NN', 'prev_word': 'medical', 'prev_is_upper': False, 'prev_is_title': False, 'prev_is_digit': False, 'next_word': '28', 'next_is_upper': False, 'next_is_title': False, 'next_is_digit': True}\n",
      "{'word': '28', 'is_upper': False, 'is_title': False, 'is_digit': True, 'word_length': 2, 'prefix_1': '2', 'prefix_2': '28', 'suffix_1': '8', 'suffix_2': '28', 'pos_tag': 'CD', 'prev_word': 'evaluation', 'prev_is_upper': False, 'prev_is_title': False, 'prev_is_digit': False, 'next_word': 'was', 'next_is_upper': False, 'next_is_title': False, 'next_is_digit': False}\n",
      "{'word': 'was', 'is_upper': False, 'is_title': False, 'is_digit': False, 'word_length': 3, 'prefix_1': 'w', 'prefix_2': 'wa', 'suffix_1': 's', 'suffix_2': 'as', 'pos_tag': 'VBD', 'prev_word': '28', 'prev_is_upper': False, 'prev_is_title': False, 'prev_is_digit': True, 'next_word': 'performed', 'next_is_upper': False, 'next_is_title': False, 'next_is_digit': False}\n",
      "{'word': 'performed', 'is_upper': False, 'is_title': False, 'is_digit': False, 'word_length': 9, 'prefix_1': 'p', 'prefix_2': 'pe', 'suffix_1': 'd', 'suffix_2': 'ed', 'pos_tag': 'VBN', 'prev_word': 'was', 'prev_is_upper': False, 'prev_is_title': False, 'prev_is_digit': False, 'next_word': 'by', 'next_is_upper': False, 'next_is_title': False, 'next_is_digit': False}\n",
      "{'word': 'by', 'is_upper': False, 'is_title': False, 'is_digit': False, 'word_length': 2, 'prefix_1': 'b', 'prefix_2': 'by', 'suffix_1': 'y', 'suffix_2': 'by', 'pos_tag': 'IN', 'prev_word': 'performed', 'prev_is_upper': False, 'prev_is_title': False, 'prev_is_digit': False, 'next_word': 'a', 'next_is_upper': False, 'next_is_title': False, 'next_is_digit': False}\n",
      "{'word': 'a', 'is_upper': False, 'is_title': False, 'is_digit': False, 'word_length': 1, 'prefix_1': 'a', 'prefix_2': 'a', 'suffix_1': 'a', 'suffix_2': 'a', 'pos_tag': 'DT', 'prev_word': 'by', 'prev_is_upper': False, 'prev_is_title': False, 'prev_is_digit': False, 'next_word': 'physician', 'next_is_upper': False, 'next_is_title': False, 'next_is_digit': False}\n",
      "{'word': 'physician', 'is_upper': False, 'is_title': False, 'is_digit': False, 'word_length': 9, 'prefix_1': 'p', 'prefix_2': 'ph', 'suffix_1': 'n', 'suffix_2': 'an', 'pos_tag': 'NN', 'prev_word': 'a', 'prev_is_upper': False, 'prev_is_title': False, 'prev_is_digit': False, 'next_word': 'anamnesis', 'next_is_upper': False, 'next_is_title': False, 'next_is_digit': False}\n",
      "{'word': 'anamnesis', 'is_upper': False, 'is_title': False, 'is_digit': False, 'word_length': 9, 'prefix_1': 'a', 'prefix_2': 'an', 'suffix_1': 's', 'suffix_2': 'is', 'pos_tag': 'NN', 'prev_word': 'physician', 'prev_is_upper': False, 'prev_is_title': False, 'prev_is_digit': False, 'next_word': 'a', 'next_is_upper': False, 'next_is_title': False, 'next_is_digit': False}\n",
      "{'word': 'a', 'is_upper': False, 'is_title': False, 'is_digit': False, 'word_length': 1, 'prefix_1': 'a', 'prefix_2': 'a', 'suffix_1': 'a', 'suffix_2': 'a', 'pos_tag': 'DT', 'prev_word': 'anamnesis', 'prev_is_upper': False, 'prev_is_title': False, 'prev_is_digit': False, 'next_word': 'physical', 'next_is_upper': False, 'next_is_title': False, 'next_is_digit': False}\n",
      "{'word': 'physical', 'is_upper': False, 'is_title': False, 'is_digit': False, 'word_length': 8, 'prefix_1': 'p', 'prefix_2': 'ph', 'suffix_1': 'l', 'suffix_2': 'al', 'pos_tag': 'JJ', 'prev_word': 'a', 'prev_is_upper': False, 'prev_is_title': False, 'prev_is_digit': False, 'next_word': 'examination', 'next_is_upper': False, 'next_is_title': False, 'next_is_digit': False}\n",
      "{'word': 'examination', 'is_upper': False, 'is_title': False, 'is_digit': False, 'word_length': 11, 'prefix_1': 'e', 'prefix_2': 'ex', 'suffix_1': 'n', 'suffix_2': 'on', 'pos_tag': 'NN', 'prev_word': 'physical', 'prev_is_upper': False, 'prev_is_title': False, 'prev_is_digit': False, 'next_word': 'and', 'next_is_upper': False, 'next_is_title': False, 'next_is_digit': False}\n",
      "{'word': 'and', 'is_upper': False, 'is_title': False, 'is_digit': False, 'word_length': 3, 'prefix_1': 'a', 'prefix_2': 'an', 'suffix_1': 'd', 'suffix_2': 'nd', 'pos_tag': 'CC', 'prev_word': 'examination', 'prev_is_upper': False, 'prev_is_title': False, 'prev_is_digit': False, 'next_word': 'collection', 'next_is_upper': False, 'next_is_title': False, 'next_is_digit': False}\n",
      "{'word': 'collection', 'is_upper': False, 'is_title': False, 'is_digit': False, 'word_length': 10, 'prefix_1': 'c', 'prefix_2': 'co', 'suffix_1': 'n', 'suffix_2': 'on', 'pos_tag': 'NN', 'prev_word': 'and', 'prev_is_upper': False, 'prev_is_title': False, 'prev_is_digit': False, 'next_word': 'of', 'next_is_upper': False, 'next_is_title': False, 'next_is_digit': False}\n",
      "{'word': 'of', 'is_upper': False, 'is_title': False, 'is_digit': False, 'word_length': 2, 'prefix_1': 'o', 'prefix_2': 'of', 'suffix_1': 'f', 'suffix_2': 'of', 'pos_tag': 'IN', 'prev_word': 'collection', 'prev_is_upper': False, 'prev_is_title': False, 'prev_is_digit': False, 'next_word': 'laboratory', 'next_is_upper': False, 'next_is_title': False, 'next_is_digit': False}\n",
      "{'word': 'laboratory', 'is_upper': False, 'is_title': False, 'is_digit': False, 'word_length': 10, 'prefix_1': 'l', 'prefix_2': 'la', 'suffix_1': 'y', 'suffix_2': 'ry', 'pos_tag': 'NN', 'prev_word': 'of', 'prev_is_upper': False, 'prev_is_title': False, 'prev_is_digit': False, 'next_word': 'data', 'next_is_upper': False, 'next_is_title': False, 'next_is_digit': False}\n",
      "{'word': 'data', 'is_upper': False, 'is_title': False, 'is_digit': False, 'word_length': 4, 'prefix_1': 'd', 'prefix_2': 'da', 'suffix_1': 'a', 'suffix_2': 'ta', 'pos_tag': 'NNS', 'prev_word': 'laboratory', 'prev_is_upper': False, 'prev_is_title': False, 'prev_is_digit': False, 'next_word': 'taken', 'next_is_upper': False, 'next_is_title': False, 'next_is_digit': False}\n",
      "{'word': 'taken', 'is_upper': False, 'is_title': False, 'is_digit': False, 'word_length': 5, 'prefix_1': 't', 'prefix_2': 'ta', 'suffix_1': 'n', 'suffix_2': 'en', 'pos_tag': 'VBN', 'prev_word': 'data', 'prev_is_upper': False, 'prev_is_title': False, 'prev_is_digit': False, 'next_word': 'from', 'next_is_upper': False, 'next_is_title': False, 'next_is_digit': False}\n",
      "{'word': 'from', 'is_upper': False, 'is_title': False, 'is_digit': False, 'word_length': 4, 'prefix_1': 'f', 'prefix_2': 'fr', 'suffix_1': 'm', 'suffix_2': 'om', 'pos_tag': 'IN', 'prev_word': 'taken', 'prev_is_upper': False, 'prev_is_title': False, 'prev_is_digit': False, 'next_word': 'the', 'next_is_upper': False, 'next_is_title': False, 'next_is_digit': False}\n",
      "{'word': 'the', 'is_upper': False, 'is_title': False, 'is_digit': False, 'word_length': 3, 'prefix_1': 't', 'prefix_2': 'th', 'suffix_1': 'e', 'suffix_2': 'he', 'pos_tag': 'DT', 'prev_word': 'from', 'prev_is_upper': False, 'prev_is_title': False, 'prev_is_digit': False, 'next_word': 'HMO', 'next_is_upper': True, 'next_is_title': False, 'next_is_digit': False}\n",
      "{'word': 'HMO', 'is_upper': True, 'is_title': False, 'is_digit': False, 'word_length': 3, 'prefix_1': 'H', 'prefix_2': 'HM', 'suffix_1': 'O', 'suffix_2': 'MO', 'pos_tag': 'NN', 'prev_word': 'the', 'prev_is_upper': False, 'prev_is_title': False, 'prev_is_digit': False, 'EOS': True}\n"
     ]
    },
    {
     "name": "stderr",
     "output_type": "stream",
     "text": [
      "\n"
     ]
    }
   ],
   "source": [
    "# Extract tokens (words) from the data\n",
    "tokenized_sentences = [[word for word, label in sentence] for sentence in ner_data]\n",
    "\n",
    "# Feature extraction with a progress bar using tqdm\n",
    "features = []\n",
    "for sentence in tqdm(tokenized_sentences, desc=\"Extracting features\", position=0, leave=True):\n",
    "    features.append(sent2features(sentence))\n",
    "\n",
    "# Example of showing the features for the first sentence\n",
    "for token_features in features[0]:\n",
    "    print(token_features)\n"
   ]
  },
  {
   "cell_type": "code",
   "execution_count": 11,
   "id": "cc422df7-72d8-4518-9c3d-ef5fcd9c4912",
   "metadata": {},
   "outputs": [
    {
     "name": "stdout",
     "output_type": "stream",
     "text": [
      "[{'word': 'A', 'is_upper': True, 'is_title': True, 'is_digit': False, 'word_length': 1, 'prefix_1': 'A', 'prefix_2': 'A', 'suffix_1': 'A', 'suffix_2': 'A', 'pos_tag': 'DT', 'BOS': True, 'next_word': 'medical', 'next_is_upper': False, 'next_is_title': False, 'next_is_digit': False}, {'word': 'medical', 'is_upper': False, 'is_title': False, 'is_digit': False, 'word_length': 7, 'prefix_1': 'm', 'prefix_2': 'me', 'suffix_1': 'l', 'suffix_2': 'al', 'pos_tag': 'JJ', 'prev_word': 'A', 'prev_is_upper': True, 'prev_is_title': True, 'prev_is_digit': False, 'next_word': 'evaluation', 'next_is_upper': False, 'next_is_title': False, 'next_is_digit': False}, {'word': 'evaluation', 'is_upper': False, 'is_title': False, 'is_digit': False, 'word_length': 10, 'prefix_1': 'e', 'prefix_2': 'ev', 'suffix_1': 'n', 'suffix_2': 'on', 'pos_tag': 'NN', 'prev_word': 'medical', 'prev_is_upper': False, 'prev_is_title': False, 'prev_is_digit': False, 'next_word': '28', 'next_is_upper': False, 'next_is_title': False, 'next_is_digit': True}, {'word': '28', 'is_upper': False, 'is_title': False, 'is_digit': True, 'word_length': 2, 'prefix_1': '2', 'prefix_2': '28', 'suffix_1': '8', 'suffix_2': '28', 'pos_tag': 'CD', 'prev_word': 'evaluation', 'prev_is_upper': False, 'prev_is_title': False, 'prev_is_digit': False, 'next_word': 'was', 'next_is_upper': False, 'next_is_title': False, 'next_is_digit': False}, {'word': 'was', 'is_upper': False, 'is_title': False, 'is_digit': False, 'word_length': 3, 'prefix_1': 'w', 'prefix_2': 'wa', 'suffix_1': 's', 'suffix_2': 'as', 'pos_tag': 'VBD', 'prev_word': '28', 'prev_is_upper': False, 'prev_is_title': False, 'prev_is_digit': True, 'next_word': 'performed', 'next_is_upper': False, 'next_is_title': False, 'next_is_digit': False}, {'word': 'performed', 'is_upper': False, 'is_title': False, 'is_digit': False, 'word_length': 9, 'prefix_1': 'p', 'prefix_2': 'pe', 'suffix_1': 'd', 'suffix_2': 'ed', 'pos_tag': 'VBN', 'prev_word': 'was', 'prev_is_upper': False, 'prev_is_title': False, 'prev_is_digit': False, 'next_word': 'by', 'next_is_upper': False, 'next_is_title': False, 'next_is_digit': False}, {'word': 'by', 'is_upper': False, 'is_title': False, 'is_digit': False, 'word_length': 2, 'prefix_1': 'b', 'prefix_2': 'by', 'suffix_1': 'y', 'suffix_2': 'by', 'pos_tag': 'IN', 'prev_word': 'performed', 'prev_is_upper': False, 'prev_is_title': False, 'prev_is_digit': False, 'next_word': 'a', 'next_is_upper': False, 'next_is_title': False, 'next_is_digit': False}, {'word': 'a', 'is_upper': False, 'is_title': False, 'is_digit': False, 'word_length': 1, 'prefix_1': 'a', 'prefix_2': 'a', 'suffix_1': 'a', 'suffix_2': 'a', 'pos_tag': 'DT', 'prev_word': 'by', 'prev_is_upper': False, 'prev_is_title': False, 'prev_is_digit': False, 'next_word': 'physician', 'next_is_upper': False, 'next_is_title': False, 'next_is_digit': False}, {'word': 'physician', 'is_upper': False, 'is_title': False, 'is_digit': False, 'word_length': 9, 'prefix_1': 'p', 'prefix_2': 'ph', 'suffix_1': 'n', 'suffix_2': 'an', 'pos_tag': 'NN', 'prev_word': 'a', 'prev_is_upper': False, 'prev_is_title': False, 'prev_is_digit': False, 'next_word': 'anamnesis', 'next_is_upper': False, 'next_is_title': False, 'next_is_digit': False}, {'word': 'anamnesis', 'is_upper': False, 'is_title': False, 'is_digit': False, 'word_length': 9, 'prefix_1': 'a', 'prefix_2': 'an', 'suffix_1': 's', 'suffix_2': 'is', 'pos_tag': 'NN', 'prev_word': 'physician', 'prev_is_upper': False, 'prev_is_title': False, 'prev_is_digit': False, 'next_word': 'a', 'next_is_upper': False, 'next_is_title': False, 'next_is_digit': False}, {'word': 'a', 'is_upper': False, 'is_title': False, 'is_digit': False, 'word_length': 1, 'prefix_1': 'a', 'prefix_2': 'a', 'suffix_1': 'a', 'suffix_2': 'a', 'pos_tag': 'DT', 'prev_word': 'anamnesis', 'prev_is_upper': False, 'prev_is_title': False, 'prev_is_digit': False, 'next_word': 'physical', 'next_is_upper': False, 'next_is_title': False, 'next_is_digit': False}, {'word': 'physical', 'is_upper': False, 'is_title': False, 'is_digit': False, 'word_length': 8, 'prefix_1': 'p', 'prefix_2': 'ph', 'suffix_1': 'l', 'suffix_2': 'al', 'pos_tag': 'JJ', 'prev_word': 'a', 'prev_is_upper': False, 'prev_is_title': False, 'prev_is_digit': False, 'next_word': 'examination', 'next_is_upper': False, 'next_is_title': False, 'next_is_digit': False}, {'word': 'examination', 'is_upper': False, 'is_title': False, 'is_digit': False, 'word_length': 11, 'prefix_1': 'e', 'prefix_2': 'ex', 'suffix_1': 'n', 'suffix_2': 'on', 'pos_tag': 'NN', 'prev_word': 'physical', 'prev_is_upper': False, 'prev_is_title': False, 'prev_is_digit': False, 'next_word': 'and', 'next_is_upper': False, 'next_is_title': False, 'next_is_digit': False}, {'word': 'and', 'is_upper': False, 'is_title': False, 'is_digit': False, 'word_length': 3, 'prefix_1': 'a', 'prefix_2': 'an', 'suffix_1': 'd', 'suffix_2': 'nd', 'pos_tag': 'CC', 'prev_word': 'examination', 'prev_is_upper': False, 'prev_is_title': False, 'prev_is_digit': False, 'next_word': 'collection', 'next_is_upper': False, 'next_is_title': False, 'next_is_digit': False}, {'word': 'collection', 'is_upper': False, 'is_title': False, 'is_digit': False, 'word_length': 10, 'prefix_1': 'c', 'prefix_2': 'co', 'suffix_1': 'n', 'suffix_2': 'on', 'pos_tag': 'NN', 'prev_word': 'and', 'prev_is_upper': False, 'prev_is_title': False, 'prev_is_digit': False, 'next_word': 'of', 'next_is_upper': False, 'next_is_title': False, 'next_is_digit': False}, {'word': 'of', 'is_upper': False, 'is_title': False, 'is_digit': False, 'word_length': 2, 'prefix_1': 'o', 'prefix_2': 'of', 'suffix_1': 'f', 'suffix_2': 'of', 'pos_tag': 'IN', 'prev_word': 'collection', 'prev_is_upper': False, 'prev_is_title': False, 'prev_is_digit': False, 'next_word': 'laboratory', 'next_is_upper': False, 'next_is_title': False, 'next_is_digit': False}, {'word': 'laboratory', 'is_upper': False, 'is_title': False, 'is_digit': False, 'word_length': 10, 'prefix_1': 'l', 'prefix_2': 'la', 'suffix_1': 'y', 'suffix_2': 'ry', 'pos_tag': 'NN', 'prev_word': 'of', 'prev_is_upper': False, 'prev_is_title': False, 'prev_is_digit': False, 'next_word': 'data', 'next_is_upper': False, 'next_is_title': False, 'next_is_digit': False}, {'word': 'data', 'is_upper': False, 'is_title': False, 'is_digit': False, 'word_length': 4, 'prefix_1': 'd', 'prefix_2': 'da', 'suffix_1': 'a', 'suffix_2': 'ta', 'pos_tag': 'NNS', 'prev_word': 'laboratory', 'prev_is_upper': False, 'prev_is_title': False, 'prev_is_digit': False, 'next_word': 'taken', 'next_is_upper': False, 'next_is_title': False, 'next_is_digit': False}, {'word': 'taken', 'is_upper': False, 'is_title': False, 'is_digit': False, 'word_length': 5, 'prefix_1': 't', 'prefix_2': 'ta', 'suffix_1': 'n', 'suffix_2': 'en', 'pos_tag': 'VBN', 'prev_word': 'data', 'prev_is_upper': False, 'prev_is_title': False, 'prev_is_digit': False, 'next_word': 'from', 'next_is_upper': False, 'next_is_title': False, 'next_is_digit': False}, {'word': 'from', 'is_upper': False, 'is_title': False, 'is_digit': False, 'word_length': 4, 'prefix_1': 'f', 'prefix_2': 'fr', 'suffix_1': 'm', 'suffix_2': 'om', 'pos_tag': 'IN', 'prev_word': 'taken', 'prev_is_upper': False, 'prev_is_title': False, 'prev_is_digit': False, 'next_word': 'the', 'next_is_upper': False, 'next_is_title': False, 'next_is_digit': False}, {'word': 'the', 'is_upper': False, 'is_title': False, 'is_digit': False, 'word_length': 3, 'prefix_1': 't', 'prefix_2': 'th', 'suffix_1': 'e', 'suffix_2': 'he', 'pos_tag': 'DT', 'prev_word': 'from', 'prev_is_upper': False, 'prev_is_title': False, 'prev_is_digit': False, 'next_word': 'HMO', 'next_is_upper': True, 'next_is_title': False, 'next_is_digit': False}, {'word': 'HMO', 'is_upper': True, 'is_title': False, 'is_digit': False, 'word_length': 3, 'prefix_1': 'H', 'prefix_2': 'HM', 'suffix_1': 'O', 'suffix_2': 'MO', 'pos_tag': 'NN', 'prev_word': 'the', 'prev_is_upper': False, 'prev_is_title': False, 'prev_is_digit': False, 'EOS': True}]\n"
     ]
    }
   ],
   "source": [
    "print(features[0])"
   ]
  },
  {
   "cell_type": "code",
   "execution_count": null,
   "id": "1847674e-5476-436d-b4d0-1bf9091c673b",
   "metadata": {},
   "outputs": [],
   "source": []
  }
 ],
 "metadata": {
  "kernelspec": {
   "display_name": "Python 3 (ipykernel)",
   "language": "python",
   "name": "python3"
  },
  "language_info": {
   "codemirror_mode": {
    "name": "ipython",
    "version": 3
   },
   "file_extension": ".py",
   "mimetype": "text/x-python",
   "name": "python",
   "nbconvert_exporter": "python",
   "pygments_lexer": "ipython3",
   "version": "3.10.11"
  }
 },
 "nbformat": 4,
 "nbformat_minor": 5
}
